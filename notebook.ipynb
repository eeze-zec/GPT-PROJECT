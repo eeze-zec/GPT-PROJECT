{
 "cells": [
  {
   "cell_type": "code",
   "execution_count": 1,
   "metadata": {},
   "outputs": [
    {
     "name": "stdout",
     "output_type": "stream",
     "text": [
      "**파이썬의 사랑**\n",
      "\n",
      "코드의 바다에 떠 있는 나,\n",
      "파이썬의 품에 안겨,\n",
      "들꽃처럼 피어나는 변수들,\n",
      "그 속에 숨겨진 무한한 가능성.\n",
      "\n",
      "들여다보면, 간결한 문법,\n",
      "읽기 쉬운 그 문장들,\n",
      "마치 사랑의 속삭임처럼,\n",
      "내 마음을 부드럽게 감싸네.\n",
      "\n",
      "함수의 손길로 나를 이끌고,\n",
      "리스트의 나열 속에 담긴 꿈,\n",
      "반복의 리듬에 맞춰 춤추며,\n",
      "우린 함께 성장해 가네.\n",
      "\n",
      "모듈의 세계, 넓고 깊어,\n",
      "수많은 라이브러리, 나의 친구들,\n",
      "데이터의 바다를 항해하며,\n",
      "시각화된 아름다움에 감탄하네.\n",
      "\n",
      "오류의 순간도 두렵지 않아,\n",
      "예외 처리로 다시 일어설 수 있어,\n",
      "파이썬, 너와 함께라면,\n",
      "모든 문제는 해결될 수 있어.\n",
      "\n",
      "사랑하는 너와 나의 코드,\n",
      "함께 만들어가는 이 세상,\n",
      "파이썬의 언어로 엮인 우리의 이야기,\n",
      "영원히 계속될, 아름다운 시.이 시는 파이썬 프로그래밍 언어에 대한 애정을 통해 창조성과 협력의 아름다움을 표현하며, 코드 작성의 과정이 마치 사랑의 여정처럼 감정적으로 연결되어 있음을 보여준다."
     ]
    },
    {
     "data": {
      "text/plain": [
       "AIMessageChunk(content='이 시는 파이썬 프로그래밍 언어에 대한 애정을 통해 창조성과 협력의 아름다움을 표현하며, 코드 작성의 과정이 마치 사랑의 여정처럼 감정적으로 연결되어 있음을 보여준다.')"
      ]
     },
     "execution_count": 1,
     "metadata": {},
     "output_type": "execute_result"
    }
   ],
   "source": [
    "#0827 Assignment10\n",
    "from langchain.chat_models import ChatOpenAI\n",
    "from langchain.prompts import ChatPromptTemplate\n",
    "from langchain.callbacks import StreamingStdOutCallbackHandler\n",
    "\n",
    "chat = ChatOpenAI(model_name=\"gpt-4o-mini-2024-07-18\", temperature=0.1, streaming=True, callbacks=[StreamingStdOutCallbackHandler()],)\n",
    "\n",
    "\n",
    "poem_prompt = ChatPromptTemplate.from_messages([\n",
    "(\"system\", \"당신은 프로그래밍 언어의 특징에 대해 잘 알고 있는 개발자입니다. 당신은 프로그래밍 언어를 너무 사랑해서 관련하여 수려한 시를 짓습니다.\"),\n",
    "(\"human\", \"{poem_subject}를 주제로한 사랑스러운 시를 작성해줘.\"),\n",
    "])\n",
    "\n",
    "poem_chain = poem_prompt | chat \n",
    "\n",
    "review_prompt = ChatPromptTemplate.from_messages([\n",
    "(\"system\", \"당신은 대한민국 1등 시 해석 전문가입니다. 시에 대한 해석은 한 문장으로 말하는 능력이 있습니다..\",),\n",
    "(\"human\", \"시에 대한 평론을 작성해줘 {review}\")\n",
    "])\n",
    "\n",
    "review_chain = review_prompt | chat\n",
    "\n",
    "poem_with_reveiw_chain = {\"review\" : poem_chain} | review_chain \n",
    "poem_with_reveiw_chain.invoke({\"poem_subject\": \"python\"})"
   ]
  },
  {
   "cell_type": "markdown",
   "metadata": {},
   "source": []
  }
 ],
 "metadata": {
  "kernelspec": {
   "display_name": "env",
   "language": "python",
   "name": "python3"
  },
  "language_info": {
   "codemirror_mode": {
    "name": "ipython",
    "version": 3
   },
   "file_extension": ".py",
   "mimetype": "text/x-python",
   "name": "python",
   "nbconvert_exporter": "python",
   "pygments_lexer": "ipython3",
   "version": "3.11.9"
  }
 },
 "nbformat": 4,
 "nbformat_minor": 2
}
