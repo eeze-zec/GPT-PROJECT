{
 "cells": [
  {
   "cell_type": "code",
   "execution_count": 44,
   "metadata": {},
   "outputs": [
    {
     "name": "stdout",
     "output_type": "stream",
     "text": [
      "파이썬이여, 너의 매력은 끝이 없네\n",
      "가독성 좋고 간결한 문법, 너의 매력에 빠져\n",
      "들여다보면 마치 시를 읽는 듯한 기분\n",
      "너의 흐름은 자연스럽고 아름다워\n",
      "\n",
      "들여다보면 모든 것이 객체\n",
      "함수와 모듈로 나누어진 너의 세계\n",
      "파이썬이여, 너의 매력은 끝이 없네\n",
      "나는 너를 사랑하고 또 사랑해\n",
      "\n",
      "인터프리터 언어로 쉽게 실행되는\n",
      "너의 특징은 마치 마법 같아\n",
      "파이썬이여, 너의 매력은 끝이 없네\n",
      "나는 너를 품에 안고 싶어파이썬의 매력은 끝이 없고, 가독성 좋고 간결한 문법으로 마치 시를 읽는 듯한 기분을 주며 자연스럽고 아름다운 흐름을 갖추고 있습니다."
     ]
    },
    {
     "data": {
      "text/plain": [
       "AIMessageChunk(content='파이썬의 매력은 끝이 없고, 가독성 좋고 간결한 문법으로 마치 시를 읽는 듯한 기분을 주며 자연스럽고 아름다운 흐름을 갖추고 있습니다.')"
      ]
     },
     "execution_count": 44,
     "metadata": {},
     "output_type": "execute_result"
    }
   ],
   "source": [
    "from langchain.chat_models import ChatOpenAI\n",
    "from langchain.prompts import ChatPromptTemplate\n",
    "from langchain.callbacks import StreamingStdOutCallbackHandler\n",
    "\n",
    "chat = ChatOpenAI(model_name=\"gpt-3.5-turbo\", temperature=0.1, streaming=True, callbacks=[StreamingStdOutCallbackHandler()],)\n",
    "\n",
    "\n",
    "poem_prompt = ChatPromptTemplate.from_messages([\n",
    "(\"system\", \"당신은 프로그래밍 언어의 특징에 대해 잘 알고 있는 개발자입니다. 당신은 프로그래밍 언어를 너무 사랑해서 관련하여 수려한 시를 짓습니다.\"),\n",
    "(\"human\", \"{poem_subject}를 주제로한 사랑스러운 시를 작성해줘.\"),\n",
    "])\n",
    "\n",
    "poem_chain = poem_prompt | chat \n",
    "\n",
    "review_prompt = ChatPromptTemplate.from_messages([\n",
    "(\"system\", \"당신은 대한민국 1등 시 해석 전문가입니다. 시에 대한 해석은 한 문장으로 말하는 능력이 있습니다..\",),\n",
    "(\"human\", \"시에 대한 평론을 작성해줘 {review}\")\n",
    "])\n",
    "\n",
    "review_chain = review_prompt | chat\n",
    "\n",
    "poem_with_reveiw_chain = {\"review\" : poem_chain} | review_chain \n",
    "poem_with_reveiw_chain.invoke({\"poem_subject\": \"python\"})"
   ]
  },
  {
   "cell_type": "markdown",
   "metadata": {},
   "source": []
  }
 ],
 "metadata": {
  "kernelspec": {
   "display_name": "env",
   "language": "python",
   "name": "python3"
  },
  "language_info": {
   "codemirror_mode": {
    "name": "ipython",
    "version": 3
   },
   "file_extension": ".py",
   "mimetype": "text/x-python",
   "name": "python",
   "nbconvert_exporter": "python",
   "pygments_lexer": "ipython3",
   "version": "3.11.9"
  }
 },
 "nbformat": 4,
 "nbformat_minor": 2
}
