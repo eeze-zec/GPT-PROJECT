{
 "cells": [
  {
   "cell_type": "code",
   "execution_count": 7,
   "metadata": {},
   "outputs": [],
   "source": [
    "# 3.4 Chaningin Chains\n",
    "\n",
    "# 하나의 Chain을 실행하고, 그 출력값으로 다른 Chain을 순차적으로 실행한다. \n",
    "\n",
    "from langchain.chat_models import ChatOpenAI\n",
    "from langchain.prompts import ChatPromptTemplate\n",
    "from langchain.callbacks import StreamingStdOutCallbackHandler\n",
    "chat = ChatOpenAI(\n",
    "    temperature=0.1, \n",
    "    streaming=True,\n",
    "    callbacks=[StreamingStdOutCallbackHandler()] #console에서 응답의 진행을 볼 수 있게 된다. \n",
    "    # callback은 llm에 일어나는 events를 감지하는 아주 쉬운 방법이다. e.g. llm의 작업시작 유무 , 에러발생, llm의 문자발생,, ? \n",
    "    # 물론 events에 반응도 가넝~ \n",
    ")\n",
    "# streamin은 model의 응답(response)이 생성되는걸 바로 볼 수 있게 해준다.\n",
    "chef_prompt = ChatPromptTemplate.from_messages([\n",
    "    (\"system\", \"You are a world-class international chef. You create easy to follow recipies for any type of cuisine with easy to find ingredients.\"),\n",
    "    (\"human\", \"I want to cook {cuisine} food.\")\n",
    "])\n",
    "\n",
    "chef_chain = chef_prompt | chat \n"
   ]
  },
  {
   "cell_type": "code",
   "execution_count": null,
   "metadata": {},
   "outputs": [],
   "source": [
    "veg_chef_prompt = ChatPromptTemplate.from_messages([\n",
    "    (\"system\", \"You are a vegetarian chef specialized on making traditional recipes vegetarian. You find alternative ingredients and explain their preparation. You don't radically modify the recipe. If there is no alternative for a food just say you don't know how to recipe it.\"), \n",
    "    (\"human\", \"{recipe}\")\n",
    "])\n",
    "\n",
    "veg_chain = veg_chef_prompt | chat\n",
    "\n",
    "\n",
    "final_chain = {\"recipe\" : chef_chain} | veg_chain \n",
    "\n",
    "final_chain.invoke({\n",
    "    \"cuisine\" : \"korean\",\n",
    "})\n",
    "\n",
    "# fianl_chain을 invoke 하게 되면, \n",
    "# {cuisine}에 korean이라는 값이 들어가고, chef_chain의 result는 recipe라는 key에 저장된다. \n",
    "# 그러면 그 key값은 veg_chain의 입력값으로 전달된다. "
   ]
  }
 ],
 "metadata": {
  "kernelspec": {
   "display_name": "env",
   "language": "python",
   "name": "python3"
  },
  "language_info": {
   "codemirror_mode": {
    "name": "ipython",
    "version": 3
   },
   "file_extension": ".py",
   "mimetype": "text/x-python",
   "name": "python",
   "nbconvert_exporter": "python",
   "pygments_lexer": "ipython3",
   "version": "3.11.9"
  }
 },
 "nbformat": 4,
 "nbformat_minor": 2
}
