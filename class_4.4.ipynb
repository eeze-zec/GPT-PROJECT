{
 "cells": [
  {
   "cell_type": "code",
   "execution_count": 17,
   "metadata": {},
   "outputs": [
    {
     "data": {
      "text/plain": [
       "'\\n\\nYou are a role playing assistant.\\nAnd you are impersonating a Pirate\\n \\n\\n\\nThis is an example of how you talk:\\n\\nHuman: What is your location?\\nYou: That is a secret!\\n\\n\\n\\nStart now!\\n\\nHuman: what is your fav food?\\nYou:\\n\\n'"
      ]
     },
     "execution_count": 17,
     "metadata": {},
     "output_type": "execute_result"
    }
   ],
   "source": [
    "# 4.4  Serialization and Composition\n",
    "# 프롬프트를 가져와야하는 상황이라면 유용할 파트! \n",
    "from langchain.chat_models import ChatOpenAI\n",
    "from langchain.callbacks import StreamingStdOutCallbackHandler\n",
    "# from langchain.prompts import load_prompt \n",
    "from langchain.prompts import PromptTemplate\n",
    "from langchain.prompts.pipeline import PipelinePromptTemplate\n",
    "# PipelinePromptTemplate은 많은 prompt들을 하나로 합칠 수 있게 해준다. \n",
    "\n",
    "# prompt = load_prompt(\"./prompt.yaml\")\n",
    "# prompt = load_prompt(\"./prompt.json\")\n",
    "\n",
    "chat = ChatOpenAI(\n",
    "    temperature=0.1,\n",
    "    streaming=True,\n",
    "    callbacks =[\n",
    "        StreamingStdOutCallbackHandler()\n",
    "    ]\n",
    ")\n",
    "\n",
    "# prompt.format(country=\"United Kingdom\")\n",
    "intro = PromptTemplate.from_template(\n",
    "\"\"\"\n",
    "You are a role playing assistant.\n",
    "And you are impersonating a {character}\n",
    "\"\"\"\n",
    ")\n",
    "\n",
    "example = PromptTemplate.from_template(\n",
    "\"\"\"\n",
    "This is an example of how you talk:\n",
    "\n",
    "Human: {example_question}\n",
    "You: {example_answer}\n",
    "\"\"\"\n",
    ")\n",
    "\n",
    "start = PromptTemplate.from_template(\n",
    "\"\"\"\n",
    "Start now!\n",
    "\n",
    "Human: {question}\n",
    "You:\n",
    "\"\"\"\n",
    ")\n",
    "\n",
    "final = PromptTemplate.from_template(\n",
    "\"\"\"\n",
    "{intro} \n",
    "\n",
    "{example}\n",
    "\n",
    "{start}\n",
    "\"\"\"\n",
    ")\n",
    "\n",
    "prompts = [\n",
    "    (\"intro\",intro), #위의 final에 들어있는 키와 동일해야한다. \n",
    "    (\"example\",example), #위의 final에 들어있는 키와 동일해야한다. \n",
    "    (\"start\",start) #위의 final에 들어있는 키와 동일해야한다. \n",
    "]\n",
    "\n",
    "\n",
    "\n",
    "full_prompt = PipelinePromptTemplate(final_prompt=final,\n",
    "                                     pipeline_prompts=prompts)\n",
    "\n",
    "full_prompt.format(\n",
    "    character=\"Pirate\",\n",
    "    example_question=\"What is your location?\",\n",
    "    example_answer=\"That is a secret!\",\n",
    "    question=\"what is your fav food?\"\n",
    ")\n",
    "\n",
    "# 이렇게도 할 수 있다! 라는걸 보여주는 예시다. \n",
    "# chain = full_prompt | chat \n",
    "\n",
    "# chain.invoke({\n",
    "#     \"character\":\"Pirate\",\n",
    "#     \"example_question\":\"What is your location?\",\n",
    "#     \"example_answer\":\"That is a secret!\",\n",
    "#     \"question\":\"what is your fav food?\"\n",
    "\n",
    "# })\n"
   ]
  }
 ],
 "metadata": {
  "kernelspec": {
   "display_name": "env",
   "language": "python",
   "name": "python3"
  },
  "language_info": {
   "codemirror_mode": {
    "name": "ipython",
    "version": 3
   },
   "file_extension": ".py",
   "mimetype": "text/x-python",
   "name": "python",
   "nbconvert_exporter": "python",
   "pygments_lexer": "ipython3",
   "version": "3.11.9"
  }
 },
 "nbformat": 4,
 "nbformat_minor": 2
}
