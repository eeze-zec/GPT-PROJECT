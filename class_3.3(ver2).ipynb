{
 "cells": [
  {
   "cell_type": "code",
   "execution_count": 1,
   "metadata": {},
   "outputs": [],
   "source": [
    "# Chatmodel\n",
    "from langchain.chat_models import ChatOpenAI\n",
    "from langchain.prompts import ChatPromptTemplate\n",
    "\n",
    "chat = ChatOpenAI(temperature= 0.1)"
   ]
  },
  {
   "cell_type": "code",
   "execution_count": 2,
   "metadata": {},
   "outputs": [],
   "source": [
    "# OutputParser\n",
    "from langchain.schema import BaseOutputParser \n",
    "class CommaOutputParser(BaseOutputParser):\n",
    "    def parse(self,text):\n",
    "        items =  text.strip().split(\",\") \n",
    "        return list(map(str.strip, items)) "
   ]
  },
  {
   "cell_type": "code",
   "execution_count": 5,
   "metadata": {},
   "outputs": [],
   "source": [
    "# template\n",
    "template = ChatPromptTemplate.from_messages([\n",
    "    (\"system\" , \"You are a list generating machine. Everything you are asked will be answered with a comma sperated list of max {max_items} in lowercase. Do Not reply with anything else\"),\n",
    "    (\"human\", \"{question}\")\n",
    "\n",
    "])"
   ]
  },
  {
   "cell_type": "code",
   "execution_count": 8,
   "metadata": {},
   "outputs": [
    {
     "data": {
      "text/plain": [
       "['black', 'latte', 'cappuccino', 'espresso', 'americano']"
      ]
     },
     "execution_count": 8,
     "metadata": {},
     "output_type": "execute_result"
    }
   ],
   "source": [
    "# Chain\n",
    "# chain은 모든 elements(component)를 하나로 합쳐주고 하나씩 순서대로 result를 반환할때까지 실행된다.\n",
    "#  | operator(연산자)를 사용한다. \n",
    "chain = template | chat | CommaOutputParser()\n",
    "\n",
    "#  결국 chain.invoke를 실행함으로써 1) template에 값이 들어가고 template의 출력값이 chat에 입력값으로, 그리고 chat의 출력값이 outputParser의 입력값\n",
    "# 그리고 outputParser의 출력값은 결과값을 나타내게 된다.  \n",
    "\n",
    "# chain 실행, invoke 매서드의 입력값으로는 dictionary타입이 들어가야한다. \n",
    "chain.invoke({\n",
    "    \"max_items\" : 5,\n",
    "    \"question\" : \"what is the coffee?\"\n",
    "})\n"
   ]
  },
  {
   "cell_type": "code",
   "execution_count": null,
   "metadata": {},
   "outputs": [],
   "source": [
    "# prompt의 input type은 dictionary, output type은 promptValue 다. \n",
    "# ChatModel(chat)의 input type은 Single string, list of chat messages or a promptValue, \n",
    "# output type은 ChatMessage다. \n",
    "\n",
    "# outputParser의 input type은 'the output of an llm or chatModel'이고, output type은 .. 확인해보ㅑ아함 ㅏ하하핳 "
   ]
  }
 ],
 "metadata": {
  "kernelspec": {
   "display_name": "env",
   "language": "python",
   "name": "python3"
  },
  "language_info": {
   "codemirror_mode": {
    "name": "ipython",
    "version": 3
   },
   "file_extension": ".py",
   "mimetype": "text/x-python",
   "name": "python",
   "nbconvert_exporter": "python",
   "pygments_lexer": "ipython3",
   "version": "3.11.9"
  }
 },
 "nbformat": 4,
 "nbformat_minor": 2
}
