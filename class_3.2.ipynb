{
 "cells": [
  {
   "cell_type": "code",
   "execution_count": 3,
   "metadata": {},
   "outputs": [
    {
     "data": {
      "text/plain": [
       "'The distance between Korea and Japan is approximately 1,000 kilometers (620 miles) across the Korea Strait.'"
      ]
     },
     "execution_count": 3,
     "metadata": {},
     "output_type": "execute_result"
    }
   ],
   "source": [
    "# 3.2\n",
    "\n",
    "# what is the prompt ? 내가 llm과 의사소통을 할 수 있는 유일한 방법 \n",
    "# prompt 성능이 좋으면 llM의 답변도 좋아진다. -> 즉 좋은 prompt를 제작하는 것이 회사입장에서는 매우매우 중요하다. \n",
    "from langchain.chat_models import ChatOpenAI\n",
    "from langchain.prompts import PromptTemplate, ChatPromptTemplate\n",
    "# ChatPromptTemplate은 template을 message로부터 만든다. \n",
    "# PromptTemplate은 그냥 string을 이용해서 template을 만든다.  (text를 predicting 얍얍 )\n",
    "\n",
    "template = PromptTemplate.from_template(\"What is the distance between {country_a} and {country_b}\")\n",
    "\n",
    "chat = ChatOpenAI(\n",
    "    temperature = 0.1\n",
    ")\n",
    "\n",
    "prompt = template.format(country_a=\"korea\", country_b=\"japan\" )\n",
    "# template을 prompt에 담아서 chat.predict로 호출함.\n",
    "\n",
    "chat.predict(prompt)\n"
   ]
  },
  {
   "cell_type": "code",
   "execution_count": 10,
   "metadata": {},
   "outputs": [
    {
     "data": {
      "text/plain": [
       "AIMessage(content='Γεια σας! Το όνομά μου είναι Σωκράτης. Η απόσταση μεταξύ της Κορέας και του Ηνωμένου Βασιλείου είναι περίπου 8,900 χιλιόμετρα.')"
      ]
     },
     "execution_count": 10,
     "metadata": {},
     "output_type": "execute_result"
    }
   ],
   "source": [
    "# from langchain.schema import HumanMessage, AIMessage, SystemMessage -> 주석이유 : ChapPromptTemplate을 import 했기때문에! \n",
    "\n",
    "template = ChatPromptTemplate.from_messages([\n",
    "    (\"system\",\"You are a geography expert. And you only reply in {language}\"),\n",
    "    (\"ai\", \"Ciao, mi chiamo {name}\"),\n",
    "    (\"human\",\"What is the distance between {country_a} and {country_b}. Also, what is your name? \")\n",
    "])\n",
    "\n",
    "prompt = template.format_messages(\n",
    "    language = \"Greek\",\n",
    "    name = \"Socrates\",\n",
    "    country_a = \"Korea\",\n",
    "    country_b = \"UK\"\n",
    ")\n",
    "\n",
    "chat.predict_messages(prompt)\n",
    "\n",
    "# output parser는 llm의 output을 구조별로 parse(파싱)할 수 있게 해준다. \n"
   ]
  }
 ],
 "metadata": {
  "kernelspec": {
   "display_name": "env",
   "language": "python",
   "name": "python3"
  },
  "language_info": {
   "codemirror_mode": {
    "name": "ipython",
    "version": 3
   },
   "file_extension": ".py",
   "mimetype": "text/x-python",
   "name": "python",
   "nbconvert_exporter": "python",
   "pygments_lexer": "ipython3",
   "version": "3.11.9"
  }
 },
 "nbformat": 4,
 "nbformat_minor": 2
}
