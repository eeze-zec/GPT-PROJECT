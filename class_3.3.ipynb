{
 "cells": [
  {
   "cell_type": "code",
   "execution_count": 1,
   "metadata": {},
   "outputs": [],
   "source": [
    "#3.3 outputParser와 langchain expression language(표현언어)\n",
    "# langchain expression languages는 코드를 간략하게 만들어주고 다양한 templaterhk llm 호출 그리고 서로 다른 resopnse를 함께 사용하게 해준다. \n",
    "# outputParser가 필요한 이유 : llm의 응답을 변형해야할때가 있기 때문에~ e.g. list \n",
    "from langchain.chat_models import ChatOpenAI\n",
    "from langchain.prompts import ChatPromptTemplate\n",
    "\n",
    "chat = ChatOpenAI(temperature= 0.1)\n"
   ]
  },
  {
   "cell_type": "code",
   "execution_count": 3,
   "metadata": {},
   "outputs": [
    {
     "data": {
      "text/plain": [
       "['Hello', 'how', 'are', 'you']"
      ]
     },
     "execution_count": 3,
     "metadata": {},
     "output_type": "execute_result"
    }
   ],
   "source": [
    "from langchain.schema import BaseOutputParser #기본 base class 같은건데 이걸 확장해서 outputParser를 구현한다.\n",
    "\n",
    "class CommaOutputParser(BaseOutputParser):\n",
    "    # OutputParser는 parse라는 매서를 꼭 구현해야한다. \n",
    "    def parse(self,text):\n",
    "        # text매개변수를 통해서 전체 텍스트를 입력받는다. \n",
    "        items =  text.strip().split(\",\") #strip은 앞뒤 공백(space)를 잘라내준다. split은 e.g.쉼표를 기준으로 string을 잘라 array로 변환하다. \n",
    "        return list(map(str.strip, items)) #list를 return하기전 items의 각 element에 작업한다. (각 element에 strip매서드를 실행.)\n",
    "p = CommaOutputParser()\n",
    "\n",
    "p.parse(\"Hello,how, are, you\")\n"
   ]
  },
  {
   "cell_type": "code",
   "execution_count": 16,
   "metadata": {},
   "outputs": [
    {
     "data": {
      "text/plain": [
       "['red',\n",
       " 'blue',\n",
       " 'green',\n",
       " 'yellow',\n",
       " 'orange',\n",
       " 'purple',\n",
       " 'pink',\n",
       " 'black',\n",
       " 'white',\n",
       " 'brown']"
      ]
     },
     "execution_count": 16,
     "metadata": {},
     "output_type": "execute_result"
    }
   ],
   "source": [
    "template = ChatPromptTemplate.from_messages([\n",
    "    (\"system\" , \"You are a list generating machine. Everything you are asked will be answered with a comma sperated list of max {max_items} in lowercase. Do Not reply with anything else\"),\n",
    "    (\"human\", \"{question}\")\n",
    "\n",
    "])\n",
    "\n",
    "prompt = template.format_messages(\n",
    "    max_items = 10,\n",
    "    # question = \"What are the planets? \"\n",
    "    question = \"What are the color? \"\n",
    ")\n",
    "\n",
    "result = chat.predict_messages(prompt)\n",
    "# chat.predict_messages(prompt)\n",
    "# AIMessage(content='red, blue, ~~ 어쩌고 이렇게 결과값이 나온다. \n",
    "p = CommaOutputParser()\n",
    "\n",
    "p.parse(result.content)\n",
    "# predict_messages의 결과값에서 content만 출도 \n",
    "\n",
    "# prompt는 정교하게 작성해야한다. \n"
   ]
  }
 ],
 "metadata": {
  "kernelspec": {
   "display_name": "env",
   "language": "python",
   "name": "python3"
  },
  "language_info": {
   "codemirror_mode": {
    "name": "ipython",
    "version": 3
   },
   "file_extension": ".py",
   "mimetype": "text/x-python",
   "name": "python",
   "nbconvert_exporter": "python",
   "pygments_lexer": "ipython3",
   "version": "3.11.9"
  }
 },
 "nbformat": 4,
 "nbformat_minor": 2
}
