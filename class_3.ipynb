{
 "cells": [
  {
   "cell_type": "code",
   "execution_count": 7,
   "metadata": {},
   "outputs": [
    {
     "data": {
      "text/plain": [
       "'There are eight planets in our solar system: Mercury, Venus, Earth, Mars, Jupiter, Saturn, Uranus, and Neptune.'"
      ]
     },
     "execution_count": 7,
     "metadata": {},
     "output_type": "execute_result"
    }
   ],
   "source": [
    "# 3.0\n",
    "# llm == large language model\n",
    "from langchain.llms.openai import OpenAI\n",
    "from langchain.chat_models import ChatOpenAI  #gpt-3.5-turbo\n",
    "\n",
    "llm = OpenAI(\n",
    "    # openai_api_key=\"bbbbbb\" .env말고 이렇게도 사용가능하다. \n",
    ")\n",
    "chat = ChatOpenAI(\n",
    "    # openai_api_key=\"bbbbbb\" .env말고 이렇게도 사용가능하다. \n",
    ")\n",
    "\n",
    "# a = llm.predict(\"How many planets are there?\") The model `text-davinci-003` has been deprecated\n",
    "b = chat.predict(\"How many planets are there?\")\n",
    "\n",
    "b\n",
    "#  ChatOpenAI 로만 수업 진행예정. 이유 : gpt-3.5-turbo 가 더 최신 + 더 쌈 \n",
    "# .env 파일내의 form을 반드시 지켜줘야한다. 이유 : 주피터 실행시 기본적으로 이 환경변수(environment variable)로 Memory에 load되기 때문에. "
   ]
  },
  {
   "cell_type": "code",
   "execution_count": 2,
   "metadata": {},
   "outputs": [],
   "source": [
    "#3.1\n",
    "from langchain.chat_models import ChatOpenAI \n",
    "\n",
    "# 대화에 적합. not only 질문 받기 but also 대화 -> 내가 만들 수 있다 오예 \n",
    "chat = ChatOpenAI(\n",
    "    temperature=0.1 #높은 값 == 창의성, 무작위성 , 낮은 값 == 노 창의적 ,, ,흐음 \n",
    ")"
   ]
  },
  {
   "cell_type": "code",
   "execution_count": 3,
   "metadata": {},
   "outputs": [
    {
     "data": {
      "text/plain": [
       "AIMessage(content=\"Ciao! La distanza tra il Messico e l'Italia è di circa 10.000 chilometri. Mi chiamo Paolo, sono un esperto di geografia. Posso aiutarti con altre domande?\")"
      ]
     },
     "execution_count": 3,
     "metadata": {},
     "output_type": "execute_result"
    }
   ],
   "source": [
    "# messaage constructor들을 import \n",
    "from langchain.schema import HumanMessage, AIMessage, SystemMessage\n",
    "# HumanMessage는 내가 아는 것, \n",
    "# AIMessage는 AI에 의해 보내지는 것,\n",
    "# SystemMessage는 내가 llm에 설정들을 제공하기 위한 메세지다. \n",
    "\n",
    "messages = [\n",
    "    SystemMessage(\n",
    "        content=\"You are a geography expert. And you onlny reply in Italian\",\n",
    "    ), # AI 기본 설정, 기본 값, 기본 context를 설정함. \n",
    "    AIMessage(\n",
    "        content=\"Ciao, mi chiamo Paolo!\"\n",
    "    ), #일종의 가상대화를 만들어둠. \n",
    "    HumanMessage(\n",
    "        content=\"What is the distance between Mexico and Italia. Also, what is your name? \"\n",
    "    ) # 유저로써 질문을 함.\n",
    "]\n",
    "\n",
    "chat.predict_messages(messages)\n"
   ]
  }
 ],
 "metadata": {
  "kernelspec": {
   "display_name": "env",
   "language": "python",
   "name": "python3"
  },
  "language_info": {
   "codemirror_mode": {
    "name": "ipython",
    "version": 3
   },
   "file_extension": ".py",
   "mimetype": "text/x-python",
   "name": "python",
   "nbconvert_exporter": "python",
   "pygments_lexer": "ipython3",
   "version": "3.11.9"
  }
 },
 "nbformat": 4,
 "nbformat_minor": 2
}
