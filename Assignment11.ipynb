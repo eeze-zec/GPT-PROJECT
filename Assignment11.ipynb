{
 "cells": [
  {
   "cell_type": "code",
   "execution_count": 11,
   "metadata": {},
   "outputs": [
    {
     "name": "stdout",
     "output_type": "stream",
     "text": [
      "감독: 존 크래신스키  \n",
      "주요 출연진: 에밀리 블런트, 존 크래신스키  \n",
      "관람평: 8.29/10  \n",
      "등급: 15세 이상 관람가  \n",
      "영화의 장르: 서스펜스, 공포  \n",
      "\n",
      "\"콰이어트 플레이스\"는 소음에 민감한 괴물들이 지배하는 세상에서 가족이 생존하기 위해 소음을 피하며 살아가는 이야기를 다룹니다. 긴장감 넘치는 스토리와 독창적인 설정으로 많은 호평을 받았습니다."
     ]
    },
    {
     "data": {
      "text/plain": [
       "AIMessageChunk(content='감독: 존 크래신스키  \\n주요 출연진: 에밀리 블런트, 존 크래신스키  \\n관람평: 8.29/10  \\n등급: 15세 이상 관람가  \\n영화의 장르: 서스펜스, 공포  \\n\\n\"콰이어트 플레이스\"는 소음에 민감한 괴물들이 지배하는 세상에서 가족이 생존하기 위해 소음을 피하며 살아가는 이야기를 다룹니다. 긴장감 넘치는 스토리와 독창적인 설정으로 많은 호평을 받았습니다.')"
      ]
     },
     "execution_count": 11,
     "metadata": {},
     "output_type": "execute_result"
    }
   ],
   "source": [
    "#0828 Assignment11\n",
    "from langchain.chat_models import ChatOpenAI\n",
    "from langchain.prompts import ChatPromptTemplate\n",
    "from langchain.prompts.few_shot import FewShotChatMessagePromptTemplate\n",
    "from langchain.callbacks import StreamingStdOutCallbackHandler\n",
    "#Fewshot은 모델에게 예제들은 준다는 뜻과 같다. = 예제의 형식화 \n",
    "chat = ChatOpenAI(model_name=\"gpt-4o-mini-2024-07-18\", temperature=0.1, streaming=True, callbacks=[StreamingStdOutCallbackHandler()],)\n",
    "\n",
    "# t = PromptTemplate.from_template(\"what is the capital of {contury}\")\n",
    "# t = PromptTemplate(\n",
    "#     template =\"what is the capital of {contury}\"\n",
    "#     input_variables=[\"country\"]\n",
    "# )\n",
    "# t.format(country= \"korea\") \n",
    "\n",
    "examples = [\n",
    "{\n",
    "\"movie\": \"미드나잇 인 파리\",\n",
    "\"answer\": \"\"\"\n",
    "감독: 우디 앨런\n",
    "주요 출연진: 오웬 윌슨, 레이첼 맥아담스\n",
    "관람평: 9/10\n",
    "등급: 15세 이상 관람가\n",
    "영화의 장르: 로맨스 코미디, 판타지\n",
    "\"\"\",\n",
    "},\n",
    "{\n",
    "\"movie\": \"팅커 테일러 솔저 스파이\",\n",
    "\"answer\": \"\"\"\n",
    "감독: 토마스 알프레드슨\n",
    "주요 출연진: 게리 올드만, 톰 하디, 콜린퍼스, 마크 스트롱, 베네딕트 컴버배치\n",
    "관람평: 8.43/10\n",
    "등급: 15세 이상 관람가\n",
    "영화의 장르: 스릴러\n",
    "\"\"\",\n",
    "},\n",
    "{\n",
    "\"movie\": \"콰이어트 플레이스\",\n",
    "\"answer\": \"\"\"\n",
    "감독: 존 크래신스키\n",
    "주요 출연진 : 에밀리 블런트, 존 크래신스키\n",
    "관람평: 8.29/10\n",
    "등급: 15세 이상 관람가\n",
    "영화의 장르: 서스펜스, 공포\n",
    "\"\"\",\n",
    "},\n",
    "]\n",
    "\n",
    "# example_template = \"\"\"\n",
    "#     Human:{movie} 정보를 알려줘.\n",
    "#     AI:{answer}\n",
    "# \"\"\"\n",
    "\n",
    "example_prompt = ChatPromptTemplate.from_messages([(\"Human:{movie} 정보를 알려줘.),(AI:{answer}\")])\n",
    "\n",
    "prompt = FewShotChatMessagePromptTemplate(\n",
    "    example_prompt=example_prompt,\n",
    "    examples=examples,\n",
    ")\n",
    "\n",
    "chain = prompt | chat\n",
    "chain.invoke({\n",
    "    \"movie\" : \"콰이어트 플레이스\"\n",
    "})\n",
    "\n",
    "\n",
    "\n"
   ]
  }
 ],
 "metadata": {
  "kernelspec": {
   "display_name": "env",
   "language": "python",
   "name": "python3"
  },
  "language_info": {
   "codemirror_mode": {
    "name": "ipython",
    "version": 3
   },
   "file_extension": ".py",
   "mimetype": "text/x-python",
   "name": "python",
   "nbconvert_exporter": "python",
   "pygments_lexer": "ipython3",
   "version": "3.11.9"
  }
 },
 "nbformat": 4,
 "nbformat_minor": 2
}
