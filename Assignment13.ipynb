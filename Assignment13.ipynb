{
 "cells": [
  {
   "cell_type": "code",
   "execution_count": 4,
   "metadata": {},
   "outputs": [],
   "source": [
    "# 체인에 ConversationBufferMemory를 부여합니다.\n",
    "# 이 문서를 사용하여 RAG를 수행하세요: https://gist.github.com/serranoarevalo/5acf755c2b8d83f1707ef266b82ea223\n",
    "# 체인에 다음 질문을 합니다:\n",
    "# Aaronson 은 유죄인가요?\n",
    "# 그가 테이블에 어떤 메시지를 썼나요?\n",
    "# Julia 는 누구인가요?\n",
    "\n",
    "from langchain.chat_models import ChatOpenAI\n",
    "from langchain.memory import ConversationBufferMemory #조건\n",
    "from langchain.document_loaders import UnstructuredFileLoader \n",
    "from langchain.text_splitter import CharacterTextSplitter \n",
    "\n",
    "from langchain.embeddings import OpenAIEmbeddings, CacheBackedEmbeddings\n",
    "from langchain.vectorstores import FAISS\n",
    "from langchain.storage import LocalFileStore\n",
    "from langchain.prompts import ChatPromptTemplate, MessagesPlaceholder\n",
    "from langchain.schema.runnable import RunnablePassthrough\n",
    "\n",
    "llm = ChatOpenAI(\n",
    "    temperature=0.1,\n",
    "    model_name=\"gpt-4o-mini-2024-07-18\"\n",
    ")\n",
    "\n",
    "memory = ConversationBufferMemory(\n",
    "    llm=llm,\n",
    "    return_messages=True\n",
    ")\n",
    "\n",
    "cache_dir = LocalFileStore(\"./.cache/\")\n",
    "\n",
    "splitter = CharacterTextSplitter.from_tiktoken_encoder(  #tiktoken == 토큰화 \n",
    "    separator=\"\\n\", #Line break\n",
    "    chunk_size=600, #최대글자갯수\n",
    "    chunk_overlap=100, #문장이나 문단을 분할할때, 앞 조각 일부분을 가져오게 만든다. 문제는 중복되는 부분이 생김. (문장구조는 안해침)\n",
    "    # lenth_function = len, #t원래 oken != letter \n",
    ")\n",
    "\n",
    "loader = UnstructuredFileLoader(\"./files/document.txt\") \n",
    "docs = loader.load_and_split(text_splitter=splitter)\n",
    "embeddings = OpenAIEmbeddings()\n",
    "cached_embeddings = CacheBackedEmbeddings.from_bytes_store(embeddings, cache_dir)\n",
    "vectorstore = FAISS.from_documents(docs, cached_embeddings)\n",
    "retriver = vectorstore.as_retriever()\n",
    "\n",
    "\n",
    "prompt = ChatPromptTemplate.from_messages(\n",
    "    [\n",
    "        (\n",
    "            \"system\",\n",
    "            \"\"\"\n",
    "            주어진 글을 읽고, 질문에 대답하세요.\n",
    "            -------\n",
    "            {context}\n",
    "            \"\"\",\n",
    "        ),\n",
    "        MessagesPlaceholder(variable_name=\"history\"),\n",
    "        (\"human\", \"{question}\"),\n",
    "    ]\n",
    ")\n",
    "\n",
    "def load_memory(_):\n",
    "    return memory.load_memory_variables({})[\"history\"]\n",
    "\n",
    "chain = {\n",
    "    \"context\": retriver, \n",
    "    \"question\": RunnablePassthrough(), \n",
    "    \"history\": load_memory\n",
    "    } | prompt | llm\n",
    "\n",
    "def invoke_chain(question):\n",
    "    result = chain.invoke(question).content\n",
    "    memory.save_context(\n",
    "        {\"input\": question},\n",
    "        {\"output\": result},\n",
    "    )\n",
    "    print(result)\n"
   ]
  },
  {
   "cell_type": "code",
   "execution_count": 8,
   "metadata": {},
   "outputs": [
    {
     "name": "stdout",
     "output_type": "stream",
     "text": [
      "주어진 문서에서는 Aaronson에 대한 구체적인 정보나 그의 유죄 여부에 대한 언급이 없습니다. \"1984\" 소설의 맥락에서 Aaronson은 과거에 반당적 활동을 했던 인물로, 그가 유죄인지 여부는 당의 정치적 판단에 따라 결정됩니다. 소설에서는 그가 고문을 받고 유죄로 몰리게 되는 상황이 묘사되지만, 구체적인 세부사항은 문서에 포함되어 있지 않습니다. Aaronson의 유죄 여부에 대한 정확한 판단은 소설의 전체적인 맥락을 통해 이해해야 합니다.\n"
     ]
    }
   ],
   "source": [
    "invoke_chain(\"Aaronson 은 유죄인가요?\")"
   ]
  },
  {
   "cell_type": "code",
   "execution_count": 6,
   "metadata": {},
   "outputs": [
    {
     "name": "stdout",
     "output_type": "stream",
     "text": [
      "Winston은 테이블에 다음과 같은 메시지를 썼습니다:\n",
      "\n",
      "1. \"FREEDOM IS SLAVERY\" (자유는 노예다)\n",
      "2. \"TWO AND TWO MAKE FIVE\" (2와 2는 5다)\n",
      "3. \"GOD IS POWER\" (신은 권력이다)\n",
      "\n",
      "이 메시지들은 그가 당의 이념과 사상을 받아들이고 있다는 것을 나타내는 상징적인 문구들입니다.\n"
     ]
    }
   ],
   "source": [
    "invoke_chain(\"그가 테이블에 어떤 메시지를 썼나요?\")"
   ]
  },
  {
   "cell_type": "code",
   "execution_count": 7,
   "metadata": {},
   "outputs": [
    {
     "name": "stdout",
     "output_type": "stream",
     "text": [
      "Julia는 소설 \"1984\"의 주요 등장인물 중 하나로, Winston Smith의 연인입니다. 그녀는 당의 억압적인 체제에 반대하는 감정과 욕망을 가진 인물로, Winston과 함께 비밀스럽게 사랑을 나누며 자유와 개인적인 행복을 추구합니다. Julia는 당의 통제에 저항하려는 Winston에게 중요한 존재이며, 그들의 관계는 개인의 자유와 사랑의 의미를 탐구하는 중요한 요소로 작용합니다.\n"
     ]
    }
   ],
   "source": [
    "invoke_chain(\"Julia 는 누구인가요?\")"
   ]
  }
 ],
 "metadata": {
  "kernelspec": {
   "display_name": "env",
   "language": "python",
   "name": "python3"
  },
  "language_info": {
   "codemirror_mode": {
    "name": "ipython",
    "version": 3
   },
   "file_extension": ".py",
   "mimetype": "text/x-python",
   "name": "python",
   "nbconvert_exporter": "python",
   "pygments_lexer": "ipython3",
   "version": "3.11.9"
  }
 },
 "nbformat": 4,
 "nbformat_minor": 2
}
