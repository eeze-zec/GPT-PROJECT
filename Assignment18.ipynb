{
 "cells": [
  {
   "cell_type": "code",
   "execution_count": null,
   "metadata": {},
   "outputs": [],
   "source": [
    "#Assignment18 GPT\n",
    "# 새로운 Jupyter notebook에서 리서치 AI 에이전트를 만들고 커스텀 도구를 부여합니다.\n",
    "# 에이전트는 다음 작업을 수행할 수 있어야 합니다:\n",
    "# Wikipedia에서 검색\n",
    "# DuckDuckGo에서 검색\n",
    "# 웹사이트의 텍스트를 스크랩하고 추출합니다.\n",
    "# 리서치 결과를 .txt 파일에 저장하기\n",
    "# 다음 쿼리로 에이전트를 실행합니다: \"Research about the XZ backdoor\" 라는 쿼리로 에이전트를 실행하면, 에이전트는 Wikipedia 또는 DuckDuckGo에서 검색을 시도하고, DuckDuckGo에서 웹사이트를 찾으면 해당 웹사이트에 들어가서 콘텐츠를 추출한 다음 .txt 파일에 조사 내용을 저장하는 것으로 완료해야 합니다.\n",
    "\n",
    "# notebook 을 실행한 후 커밋을 생성하고 Github에 푸시합니다.\n",
    "# 제출 링크는 Github 리포지토리가 아닌! github 커밋으로 연결되어야 합니다."
   ]
  },
  {
   "cell_type": "code",
   "execution_count": null,
   "metadata": {},
   "outputs": [],
   "source": [
    "# test commit "
   ]
  }
 ],
 "metadata": {
  "language_info": {
   "name": "python"
  }
 },
 "nbformat": 4,
 "nbformat_minor": 2
}
